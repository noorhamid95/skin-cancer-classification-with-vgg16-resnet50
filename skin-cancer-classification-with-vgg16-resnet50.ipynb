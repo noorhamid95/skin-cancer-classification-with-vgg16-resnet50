{
 "cells": [
  {
   "cell_type": "code",
   "execution_count": 62,
   "metadata": {
    "_cell_guid": "b1076dfc-b9ad-4769-8c92-a6c4dae69d19",
    "_uuid": "8f2839f25d086af736a60e9eeb907d3b93b6e0e5"
   },
   "outputs": [],
   "source": [
    "from keras.models import Sequential\n",
    "from keras.layers import Convolution2D\n",
    "from keras.layers import MaxPooling2D\n",
    "from tensorflow.keras.applications.resnet50 import ResNet50 \n",
    "#,NASNetLarge\n",
    "from keras.layers import Flatten\n",
    "from tensorflow.keras.preprocessing.image import ImageDataGenerator\n",
    "from keras.layers import Dense,Dropout\n",
    "from tensorflow.keras.callbacks import ReduceLROnPlateau, ModelCheckpoint, EarlyStopping\n",
    "import warnings\n",
    "warnings.filterwarnings(\"ignore\")\n",
    "\n",
    "#from tensorflow.keras.callbacks import ReduceLROnPlateau, ModelCheckpoint, EarlyStopping\n",
    "from tensorflow.keras.optimizers import Adam ,RMSprop\n",
    "import matplotlib.pyplot as plt\n",
    "from tensorflow.keras.applications.vgg16 import VGG16"
   ]
  },
  {
   "cell_type": "code",
   "execution_count": 63,
   "metadata": {},
   "outputs": [
    {
     "name": "stdout",
     "output_type": "stream",
     "text": [
      "Found 2637 images belonging to 2 classes.\n",
      "Found 660 images belonging to 2 classes.\n"
     ]
    }
   ],
   "source": [
    "image_width, image_height = 224,224\n",
    "\n",
    "train_datagen = ImageDataGenerator(\n",
    "      rescale=1./255,\n",
    "      rotation_range=20,\n",
    "      shear_range=0.2,\n",
    "      zoom_range=0.2,\n",
    "      width_shift_range=0.3,\n",
    "      height_shift_range=0.3,\n",
    "      horizontal_flip=True,\n",
    "      fill_mode='nearest')\n",
    "\n",
    "test_datagen = ImageDataGenerator(rescale = 1./255.)\n",
    "\n",
    "train_generator = train_datagen.flow_from_directory(\n",
    "                    \"../input/skin-cencer-dataset-images/train\",\n",
    "                    batch_size=128,\n",
    "                    class_mode='categorical',\n",
    "                    shuffle=True,\n",
    "                    target_size=(image_width, image_height)\n",
    ")     \n",
    "\n",
    "test_generator =  test_datagen.flow_from_directory(\n",
    "                    \"../input/skin-cencer-dataset-images/test\",\n",
    "                    batch_size=128,\n",
    "                    class_mode='categorical',\n",
    "                    shuffle=True,\n",
    "                    target_size=(image_width, image_height)\n",
    ")\n"
   ]
  },
  {
   "cell_type": "code",
   "execution_count": null,
   "metadata": {},
   "outputs": [],
   "source": []
  },
  {
   "cell_type": "code",
   "execution_count": 64,
   "metadata": {},
   "outputs": [
    {
     "name": "stdout",
     "output_type": "stream",
     "text": [
      "20\n"
     ]
    }
   ],
   "source": [
    "train_steps = train_generator.n // train_generator.batch_size\n",
    "\n",
    "print(train_steps)"
   ]
  },
  {
   "cell_type": "code",
   "execution_count": 65,
   "metadata": {},
   "outputs": [
    {
     "name": "stdout",
     "output_type": "stream",
     "text": [
      "5\n"
     ]
    }
   ],
   "source": [
    "test_steps = test_generator.n // test_generator.batch_size\n",
    "\n",
    "print(test_steps)"
   ]
  },
  {
   "cell_type": "code",
   "execution_count": 66,
   "metadata": {},
   "outputs": [],
   "source": [
    "#rs = ResNet50(weights='imagenet', include_top=True, input_shape=(image_width, image_height, 3))"
   ]
  },
  {
   "cell_type": "code",
   "execution_count": 67,
   "metadata": {},
   "outputs": [],
   "source": [
    "rs = ResNet50(include_top=True,\n",
    "                 weights= None,\n",
    "                 input_tensor=None,\n",
    "                 input_shape=(image_width, image_height, 3),\n",
    "                 pooling='avg',\n",
    "                 classes=2)"
   ]
  },
  {
   "cell_type": "code",
   "execution_count": 68,
   "metadata": {},
   "outputs": [],
   "source": [
    "for layers in (rs.layers):\n",
    "    layers.trainable = False"
   ]
  },
  {
   "cell_type": "code",
   "execution_count": 69,
   "metadata": {},
   "outputs": [
    {
     "data": {
      "text/plain": [
       "[<tensorflow.python.keras.engine.input_layer.InputLayer at 0x7fd3e58c4c10>,\n",
       " <tensorflow.python.keras.layers.convolutional.ZeroPadding2D at 0x7fd3a1fc16d0>,\n",
       " <tensorflow.python.keras.layers.convolutional.Conv2D at 0x7fd3a1fc12d0>,\n",
       " <tensorflow.python.keras.layers.normalization_v2.BatchNormalization at 0x7fd3a1fd7990>,\n",
       " <tensorflow.python.keras.layers.core.Activation at 0x7fd3e58c4b90>,\n",
       " <tensorflow.python.keras.layers.convolutional.ZeroPadding2D at 0x7fd3e5894890>,\n",
       " <tensorflow.python.keras.layers.pooling.MaxPooling2D at 0x7fd3bd02dc10>,\n",
       " <tensorflow.python.keras.layers.convolutional.Conv2D at 0x7fd3a379f790>,\n",
       " <tensorflow.python.keras.layers.normalization_v2.BatchNormalization at 0x7fd3a37a2b50>,\n",
       " <tensorflow.python.keras.layers.core.Activation at 0x7fd3a373df90>,\n",
       " <tensorflow.python.keras.layers.convolutional.Conv2D at 0x7fd3a3743b10>,\n",
       " <tensorflow.python.keras.layers.normalization_v2.BatchNormalization at 0x7fd3a375ae90>,\n",
       " <tensorflow.python.keras.layers.core.Activation at 0x7fd3a3766850>,\n",
       " <tensorflow.python.keras.layers.convolutional.Conv2D at 0x7fd3a3792c90>,\n",
       " <tensorflow.python.keras.layers.convolutional.Conv2D at 0x7fd3a3766910>,\n",
       " <tensorflow.python.keras.layers.normalization_v2.BatchNormalization at 0x7fd3a379b690>,\n",
       " <tensorflow.python.keras.layers.normalization_v2.BatchNormalization at 0x7fd3a376ae10>,\n",
       " <tensorflow.python.keras.layers.merge.Add at 0x7fd3a3706b50>,\n",
       " <tensorflow.python.keras.layers.core.Activation at 0x7fd3a3706a50>,\n",
       " <tensorflow.python.keras.layers.convolutional.Conv2D at 0x7fd3a3720110>,\n",
       " <tensorflow.python.keras.layers.normalization_v2.BatchNormalization at 0x7fd3a3724590>,\n",
       " <tensorflow.python.keras.layers.core.Activation at 0x7fd3a372b510>,\n",
       " <tensorflow.python.keras.layers.convolutional.Conv2D at 0x7fd3a372f590>,\n",
       " <tensorflow.python.keras.layers.normalization_v2.BatchNormalization at 0x7fd3a36c8f90>,\n",
       " <tensorflow.python.keras.layers.core.Activation at 0x7fd3a36d38d0>,\n",
       " <tensorflow.python.keras.layers.convolutional.Conv2D at 0x7fd3a36d3990>,\n",
       " <tensorflow.python.keras.layers.normalization_v2.BatchNormalization at 0x7fd3a36e9fd0>,\n",
       " <tensorflow.python.keras.layers.merge.Add at 0x7fd3a36f4c50>,\n",
       " <tensorflow.python.keras.layers.core.Activation at 0x7fd3a36f4b50>,\n",
       " <tensorflow.python.keras.layers.convolutional.Conv2D at 0x7fd3a36f8650>,\n",
       " <tensorflow.python.keras.layers.normalization_v2.BatchNormalization at 0x7fd3a3699550>,\n",
       " <tensorflow.python.keras.layers.core.Activation at 0x7fd3a369e610>,\n",
       " <tensorflow.python.keras.layers.convolutional.Conv2D at 0x7fd3a369e2d0>,\n",
       " <tensorflow.python.keras.layers.normalization_v2.BatchNormalization at 0x7fd3a36b5dd0>,\n",
       " <tensorflow.python.keras.layers.core.Activation at 0x7fd3c416c790>,\n",
       " <tensorflow.python.keras.layers.convolutional.Conv2D at 0x7fd3a3640890>,\n",
       " <tensorflow.python.keras.layers.normalization_v2.BatchNormalization at 0x7fd3a3660110>,\n",
       " <tensorflow.python.keras.layers.merge.Add at 0x7fd3a3663cd0>,\n",
       " <tensorflow.python.keras.layers.core.Activation at 0x7fd3a3663bd0>,\n",
       " <tensorflow.python.keras.layers.convolutional.Conv2D at 0x7fd3a360b690>,\n",
       " <tensorflow.python.keras.layers.normalization_v2.BatchNormalization at 0x7fd3a3618690>,\n",
       " <tensorflow.python.keras.layers.core.Activation at 0x7fd3a3611a10>,\n",
       " <tensorflow.python.keras.layers.convolutional.Conv2D at 0x7fd3a3630490>,\n",
       " <tensorflow.python.keras.layers.normalization_v2.BatchNormalization at 0x7fd3a35c7c90>,\n",
       " <tensorflow.python.keras.layers.core.Activation at 0x7fd3a35d2750>,\n",
       " <tensorflow.python.keras.layers.convolutional.Conv2D at 0x7fd3a36686d0>,\n",
       " <tensorflow.python.keras.layers.convolutional.Conv2D at 0x7fd3a35d2810>,\n",
       " <tensorflow.python.keras.layers.normalization_v2.BatchNormalization at 0x7fd3a36055d0>,\n",
       " <tensorflow.python.keras.layers.normalization_v2.BatchNormalization at 0x7fd3a35dd250>,\n",
       " <tensorflow.python.keras.layers.merge.Add at 0x7fd3a35f5ad0>,\n",
       " <tensorflow.python.keras.layers.core.Activation at 0x7fd3a35f59d0>,\n",
       " <tensorflow.python.keras.layers.convolutional.Conv2D at 0x7fd3a3582750>,\n",
       " <tensorflow.python.keras.layers.normalization_v2.BatchNormalization at 0x7fd3a359a510>,\n",
       " <tensorflow.python.keras.layers.core.Activation at 0x7fd3a359d5d0>,\n",
       " <tensorflow.python.keras.layers.convolutional.Conv2D at 0x7fd3a359dc10>,\n",
       " <tensorflow.python.keras.layers.normalization_v2.BatchNormalization at 0x7fd3a35b6d90>,\n",
       " <tensorflow.python.keras.layers.core.Activation at 0x7fd3a3540950>,\n",
       " <tensorflow.python.keras.layers.convolutional.Conv2D at 0x7fd3a3540a10>,\n",
       " <tensorflow.python.keras.layers.normalization_v2.BatchNormalization at 0x7fd3a355e110>,\n",
       " <tensorflow.python.keras.layers.merge.Add at 0x7fd3a3563cd0>,\n",
       " <tensorflow.python.keras.layers.core.Activation at 0x7fd3a3563bd0>,\n",
       " <tensorflow.python.keras.layers.convolutional.Conv2D at 0x7fd3a35696d0>,\n",
       " <tensorflow.python.keras.layers.normalization_v2.BatchNormalization at 0x7fd3a35065d0>,\n",
       " <tensorflow.python.keras.layers.core.Activation at 0x7fd3a350c690>,\n",
       " <tensorflow.python.keras.layers.convolutional.Conv2D at 0x7fd3a350c750>,\n",
       " <tensorflow.python.keras.layers.normalization_v2.BatchNormalization at 0x7fd3a3524d90>,\n",
       " <tensorflow.python.keras.layers.core.Activation at 0x7fd3a352ea10>,\n",
       " <tensorflow.python.keras.layers.convolutional.Conv2D at 0x7fd3a352ead0>,\n",
       " <tensorflow.python.keras.layers.normalization_v2.BatchNormalization at 0x7fd3a34cec90>,\n",
       " <tensorflow.python.keras.layers.merge.Add at 0x7fd3a34d5d90>,\n",
       " <tensorflow.python.keras.layers.core.Activation at 0x7fd3a34d5c90>,\n",
       " <tensorflow.python.keras.layers.convolutional.Conv2D at 0x7fd3a34da7d0>,\n",
       " <tensorflow.python.keras.layers.normalization_v2.BatchNormalization at 0x7fd3a34f4690>,\n",
       " <tensorflow.python.keras.layers.core.Activation at 0x7fd3a347a750>,\n",
       " <tensorflow.python.keras.layers.convolutional.Conv2D at 0x7fd3a347a810>,\n",
       " <tensorflow.python.keras.layers.normalization_v2.BatchNormalization at 0x7fd3a3487250>,\n",
       " <tensorflow.python.keras.layers.core.Activation at 0x7fd3a349fad0>,\n",
       " <tensorflow.python.keras.layers.convolutional.Conv2D at 0x7fd3a349fb90>,\n",
       " <tensorflow.python.keras.layers.normalization_v2.BatchNormalization at 0x7fd3a343ed50>,\n",
       " <tensorflow.python.keras.layers.merge.Add at 0x7fd3a3441e50>,\n",
       " <tensorflow.python.keras.layers.core.Activation at 0x7fd3a3441d50>,\n",
       " <tensorflow.python.keras.layers.convolutional.Conv2D at 0x7fd3a346b7d0>,\n",
       " <tensorflow.python.keras.layers.normalization_v2.BatchNormalization at 0x7fd3a346fb90>,\n",
       " <tensorflow.python.keras.layers.core.Activation at 0x7fd3a340d250>,\n",
       " <tensorflow.python.keras.layers.convolutional.Conv2D at 0x7fd3a340db50>,\n",
       " <tensorflow.python.keras.layers.normalization_v2.BatchNormalization at 0x7fd3a3425f50>,\n",
       " <tensorflow.python.keras.layers.core.Activation at 0x7fd3a3431890>,\n",
       " <tensorflow.python.keras.layers.convolutional.Conv2D at 0x7fd3a3446c50>,\n",
       " <tensorflow.python.keras.layers.convolutional.Conv2D at 0x7fd3a3431950>,\n",
       " <tensorflow.python.keras.layers.normalization_v2.BatchNormalization at 0x7fd3a3464710>,\n",
       " <tensorflow.python.keras.layers.normalization_v2.BatchNormalization at 0x7fd3a33c8f10>,\n",
       " <tensorflow.python.keras.layers.merge.Add at 0x7fd3a33d2c10>,\n",
       " <tensorflow.python.keras.layers.core.Activation at 0x7fd3a33d2b10>,\n",
       " <tensorflow.python.keras.layers.convolutional.Conv2D at 0x7fd3a33d8c10>,\n",
       " <tensorflow.python.keras.layers.normalization_v2.BatchNormalization at 0x7fd3a33f7650>,\n",
       " <tensorflow.python.keras.layers.core.Activation at 0x7fd3a337d710>,\n",
       " <tensorflow.python.keras.layers.convolutional.Conv2D at 0x7fd3a337d7d0>,\n",
       " <tensorflow.python.keras.layers.normalization_v2.BatchNormalization at 0x7fd3a3395f10>,\n",
       " <tensorflow.python.keras.layers.core.Activation at 0x7fd3a339fa90>,\n",
       " <tensorflow.python.keras.layers.convolutional.Conv2D at 0x7fd3a339fb50>,\n",
       " <tensorflow.python.keras.layers.normalization_v2.BatchNormalization at 0x7fd3a33b9650>,\n",
       " <tensorflow.python.keras.layers.merge.Add at 0x7fd3a3344e10>,\n",
       " <tensorflow.python.keras.layers.core.Activation at 0x7fd3a3344d10>,\n",
       " <tensorflow.python.keras.layers.convolutional.Conv2D at 0x7fd3a3348850>,\n",
       " <tensorflow.python.keras.layers.normalization_v2.BatchNormalization at 0x7fd3a3365710>,\n",
       " <tensorflow.python.keras.layers.core.Activation at 0x7fd3a336c7d0>,\n",
       " <tensorflow.python.keras.layers.convolutional.Conv2D at 0x7fd3a336c890>,\n",
       " <tensorflow.python.keras.layers.normalization_v2.BatchNormalization at 0x7fd3a3371d90>,\n",
       " <tensorflow.python.keras.layers.core.Activation at 0x7fd3a330fb50>,\n",
       " <tensorflow.python.keras.layers.convolutional.Conv2D at 0x7fd3a330fc10>,\n",
       " <tensorflow.python.keras.layers.normalization_v2.BatchNormalization at 0x7fd3a332edd0>,\n",
       " <tensorflow.python.keras.layers.merge.Add at 0x7fd3a3332f10>,\n",
       " <tensorflow.python.keras.layers.core.Activation at 0x7fd3a3332e10>,\n",
       " <tensorflow.python.keras.layers.convolutional.Conv2D at 0x7fd3a3338810>,\n",
       " <tensorflow.python.keras.layers.normalization_v2.BatchNormalization at 0x7fd3a32d77d0>,\n",
       " <tensorflow.python.keras.layers.core.Activation at 0x7fd3a32dc890>,\n",
       " <tensorflow.python.keras.layers.convolutional.Conv2D at 0x7fd3a32dc950>,\n",
       " <tensorflow.python.keras.layers.normalization_v2.BatchNormalization at 0x7fd3a32f3f10>,\n",
       " <tensorflow.python.keras.layers.core.Activation at 0x7fd3a327fc10>,\n",
       " <tensorflow.python.keras.layers.convolutional.Conv2D at 0x7fd3a327fcd0>,\n",
       " <tensorflow.python.keras.layers.normalization_v2.BatchNormalization at 0x7fd3a329de90>,\n",
       " <tensorflow.python.keras.layers.merge.Add at 0x7fd3a32a2e10>,\n",
       " <tensorflow.python.keras.layers.core.Activation at 0x7fd3a32a2f10>,\n",
       " <tensorflow.python.keras.layers.convolutional.Conv2D at 0x7fd3a32a9890>,\n",
       " <tensorflow.python.keras.layers.normalization_v2.BatchNormalization at 0x7fd3a3245890>,\n",
       " <tensorflow.python.keras.layers.core.Activation at 0x7fd3a324c950>,\n",
       " <tensorflow.python.keras.layers.convolutional.Conv2D at 0x7fd3a324ca10>,\n",
       " <tensorflow.python.keras.layers.normalization_v2.BatchNormalization at 0x7fd3a326c110>,\n",
       " <tensorflow.python.keras.layers.core.Activation at 0x7fd3a326fcd0>,\n",
       " <tensorflow.python.keras.layers.convolutional.Conv2D at 0x7fd3a326fd90>,\n",
       " <tensorflow.python.keras.layers.normalization_v2.BatchNormalization at 0x7fd3a320bf90>,\n",
       " <tensorflow.python.keras.layers.merge.Add at 0x7fd3a32105d0>,\n",
       " <tensorflow.python.keras.layers.core.Activation at 0x7fd3a3210e90>,\n",
       " <tensorflow.python.keras.layers.convolutional.Conv2D at 0x7fd3a3218950>,\n",
       " <tensorflow.python.keras.layers.normalization_v2.BatchNormalization at 0x7fd3a3236950>,\n",
       " <tensorflow.python.keras.layers.core.Activation at 0x7fd3a31bba10>,\n",
       " <tensorflow.python.keras.layers.convolutional.Conv2D at 0x7fd3a31bbad0>,\n",
       " <tensorflow.python.keras.layers.normalization_v2.BatchNormalization at 0x7fd3a31d9c90>,\n",
       " <tensorflow.python.keras.layers.core.Activation at 0x7fd3a31dfd90>,\n",
       " <tensorflow.python.keras.layers.convolutional.Conv2D at 0x7fd3a31dfe50>,\n",
       " <tensorflow.python.keras.layers.normalization_v2.BatchNormalization at 0x7fd3a317d810>,\n",
       " <tensorflow.python.keras.layers.merge.Add at 0x7fd3a3182690>,\n",
       " <tensorflow.python.keras.layers.core.Activation at 0x7fd3a31829d0>,\n",
       " <tensorflow.python.keras.layers.convolutional.Conv2D at 0x7fd3a31aaad0>,\n",
       " <tensorflow.python.keras.layers.normalization_v2.BatchNormalization at 0x7fd3a31b0e90>,\n",
       " <tensorflow.python.keras.layers.core.Activation at 0x7fd3a314f810>,\n",
       " <tensorflow.python.keras.layers.convolutional.Conv2D at 0x7fd3a314f8d0>,\n",
       " <tensorflow.python.keras.layers.normalization_v2.BatchNormalization at 0x7fd3a3154dd0>,\n",
       " <tensorflow.python.keras.layers.core.Activation at 0x7fd3a3171b90>,\n",
       " <tensorflow.python.keras.layers.convolutional.Conv2D at 0x7fd3a3187a10>,\n",
       " <tensorflow.python.keras.layers.convolutional.Conv2D at 0x7fd3a3171c50>,\n",
       " <tensorflow.python.keras.layers.normalization_v2.BatchNormalization at 0x7fd3a31a6a10>,\n",
       " <tensorflow.python.keras.layers.normalization_v2.BatchNormalization at 0x7fd3a3110e10>,\n",
       " <tensorflow.python.keras.layers.merge.Add at 0x7fd3a3113f50>,\n",
       " <tensorflow.python.keras.layers.core.Activation at 0x7fd3a3113e50>,\n",
       " <tensorflow.python.keras.layers.convolutional.Conv2D at 0x7fd3a311c850>,\n",
       " <tensorflow.python.keras.layers.normalization_v2.BatchNormalization at 0x7fd3a3138950>,\n",
       " <tensorflow.python.keras.layers.core.Activation at 0x7fd3a30bda10>,\n",
       " <tensorflow.python.keras.layers.convolutional.Conv2D at 0x7fd3a30bdad0>,\n",
       " <tensorflow.python.keras.layers.normalization_v2.BatchNormalization at 0x7fd3a30ddc90>,\n",
       " <tensorflow.python.keras.layers.core.Activation at 0x7fd3a30e3d90>,\n",
       " <tensorflow.python.keras.layers.convolutional.Conv2D at 0x7fd3a30e3e50>,\n",
       " <tensorflow.python.keras.layers.normalization_v2.BatchNormalization at 0x7fd3a307f810>,\n",
       " <tensorflow.python.keras.layers.merge.Add at 0x7fd3a3082690>,\n",
       " <tensorflow.python.keras.layers.core.Activation at 0x7fd3a30829d0>,\n",
       " <tensorflow.python.keras.layers.convolutional.Conv2D at 0x7fd3a3088a10>,\n",
       " <tensorflow.python.keras.layers.normalization_v2.BatchNormalization at 0x7fd3a30a9a10>,\n",
       " <tensorflow.python.keras.layers.core.Activation at 0x7fd3a30aead0>,\n",
       " <tensorflow.python.keras.layers.convolutional.Conv2D at 0x7fd3a30aeb90>,\n",
       " <tensorflow.python.keras.layers.normalization_v2.BatchNormalization at 0x7fd3a304bd50>,\n",
       " <tensorflow.python.keras.layers.core.Activation at 0x7fd3a3050e50>,\n",
       " <tensorflow.python.keras.layers.convolutional.Conv2D at 0x7fd3a3050f10>,\n",
       " <tensorflow.python.keras.layers.normalization_v2.BatchNormalization at 0x7fd3a306e750>,\n",
       " <tensorflow.python.keras.layers.merge.Add at 0x7fd3a3072c90>,\n",
       " <tensorflow.python.keras.layers.core.Activation at 0x7fd3a3072a50>,\n",
       " <tensorflow.python.keras.layers.pooling.GlobalAveragePooling2D at 0x7fd3a3792c10>,\n",
       " <tensorflow.python.keras.layers.core.Dense at 0x7fd3a2ffe6d0>]"
      ]
     },
     "execution_count": 69,
     "metadata": {},
     "output_type": "execute_result"
    }
   ],
   "source": [
    "rs.layers"
   ]
  },
  {
   "cell_type": "code",
   "execution_count": 70,
   "metadata": {},
   "outputs": [
    {
     "name": "stdout",
     "output_type": "stream",
     "text": [
      "Model: \"sequential_3\"\n",
      "_________________________________________________________________\n",
      "Layer (type)                 Output Shape              Param #   \n",
      "=================================================================\n",
      "resnet50 (Functional)        (None, 2)                 23591810  \n",
      "_________________________________________________________________\n",
      "flatten_3 (Flatten)          (None, 2)                 0         \n",
      "_________________________________________________________________\n",
      "dense_12 (Dense)             (None, 4096)              12288     \n",
      "_________________________________________________________________\n",
      "dropout_9 (Dropout)          (None, 4096)              0         \n",
      "_________________________________________________________________\n",
      "dense_13 (Dense)             (None, 4096)              16781312  \n",
      "_________________________________________________________________\n",
      "dropout_10 (Dropout)         (None, 4096)              0         \n",
      "_________________________________________________________________\n",
      "dense_14 (Dense)             (None, 4096)              16781312  \n",
      "_________________________________________________________________\n",
      "dropout_11 (Dropout)         (None, 4096)              0         \n",
      "_________________________________________________________________\n",
      "dense_15 (Dense)             (None, 2)                 8194      \n",
      "=================================================================\n",
      "Total params: 57,174,916\n",
      "Trainable params: 33,583,106\n",
      "Non-trainable params: 23,591,810\n",
      "_________________________________________________________________\n"
     ]
    }
   ],
   "source": [
    "model = Sequential()\n",
    "\n",
    "# Add the ResNet50 convolutional base model\n",
    "model.add(rs)\n",
    "\n",
    "# Add new layers\n",
    "model.add(Flatten())\n",
    "model.add(Dense(4096 , activation='relu'))\n",
    "model.add(Dropout(0.5))\n",
    "model.add(Dense(4096 , activation='relu'))\n",
    "model.add(Dropout(0.3))\n",
    "model.add(Dense(4096, activation='relu'))\n",
    "model.add(Dropout(0.4))\n",
    "model.add(Dense(2, activation='softmax'))\n",
    "\n",
    "model.summary()\n",
    "\n"
   ]
  },
  {
   "cell_type": "code",
   "execution_count": 71,
   "metadata": {},
   "outputs": [],
   "source": [
    "lr = 1e-6\n",
    "model.compile(loss='categorical_crossentropy', optimizer=Adam(lr), metrics=['accuracy'])"
   ]
  },
  {
   "cell_type": "code",
   "execution_count": 72,
   "metadata": {},
   "outputs": [],
   "source": [
    "mcp = ModelCheckpoint('modelResNe.h5', verbose=1)"
   ]
  },
  {
   "cell_type": "code",
   "execution_count": 73,
   "metadata": {},
   "outputs": [],
   "source": [
    "es = EarlyStopping(patience=2,verbose=1)"
   ]
  },
  {
   "cell_type": "code",
   "execution_count": 74,
   "metadata": {},
   "outputs": [
    {
     "name": "stdout",
     "output_type": "stream",
     "text": [
      "Epoch 1/30\n",
      "20/20 [==============================] - ETA: 0s - loss: 0.6936 - accuracy: 0.4735 \n",
      "Epoch 00001: saving model to modelResNe.h5\n",
      "20/20 [==============================] - 290s 14s/step - loss: 0.6936 - accuracy: 0.4735 - val_loss: 0.6930 - val_accuracy: 0.5453\n",
      "Epoch 2/30\n",
      "20/20 [==============================] - ETA: 0s - loss: 0.6925 - accuracy: 0.5209 \n",
      "Epoch 00002: saving model to modelResNe.h5\n",
      "20/20 [==============================] - 290s 15s/step - loss: 0.6925 - accuracy: 0.5209 - val_loss: 0.6925 - val_accuracy: 0.5406\n",
      "Epoch 3/30\n",
      "20/20 [==============================] - ETA: 0s - loss: 0.6920 - accuracy: 0.5413 \n",
      "Epoch 00003: saving model to modelResNe.h5\n",
      "20/20 [==============================] - 289s 14s/step - loss: 0.6920 - accuracy: 0.5413 - val_loss: 0.6918 - val_accuracy: 0.5516\n",
      "Epoch 4/30\n",
      "20/20 [==============================] - ETA: 0s - loss: 0.6913 - accuracy: 0.5472 \n",
      "Epoch 00004: saving model to modelResNe.h5\n",
      "20/20 [==============================] - 286s 14s/step - loss: 0.6913 - accuracy: 0.5472 - val_loss: 0.6913 - val_accuracy: 0.5500\n",
      "Epoch 5/30\n",
      "20/20 [==============================] - ETA: 0s - loss: 0.6911 - accuracy: 0.5432 \n",
      "Epoch 00005: saving model to modelResNe.h5\n",
      "20/20 [==============================] - 292s 15s/step - loss: 0.6911 - accuracy: 0.5432 - val_loss: 0.6911 - val_accuracy: 0.5469\n",
      "Epoch 6/30\n",
      "20/20 [==============================] - ETA: 0s - loss: 0.6911 - accuracy: 0.5444 \n",
      "Epoch 00006: saving model to modelResNe.h5\n",
      "20/20 [==============================] - 287s 14s/step - loss: 0.6911 - accuracy: 0.5444 - val_loss: 0.6906 - val_accuracy: 0.5500\n",
      "Epoch 7/30\n",
      "20/20 [==============================] - ETA: 0s - loss: 0.6907 - accuracy: 0.5452 \n",
      "Epoch 00007: saving model to modelResNe.h5\n",
      "20/20 [==============================] - 288s 14s/step - loss: 0.6907 - accuracy: 0.5452 - val_loss: 0.6907 - val_accuracy: 0.5437\n",
      "Epoch 8/30\n",
      "20/20 [==============================] - ETA: 0s - loss: 0.6902 - accuracy: 0.5464 \n",
      "Epoch 00008: saving model to modelResNe.h5\n",
      "20/20 [==============================] - 291s 15s/step - loss: 0.6902 - accuracy: 0.5464 - val_loss: 0.6899 - val_accuracy: 0.5500\n",
      "Epoch 9/30\n",
      "20/20 [==============================] - ETA: 0s - loss: 0.6898 - accuracy: 0.5452 \n",
      "Epoch 00009: saving model to modelResNe.h5\n",
      "20/20 [==============================] - 287s 14s/step - loss: 0.6898 - accuracy: 0.5452 - val_loss: 0.6901 - val_accuracy: 0.5453\n",
      "Epoch 10/30\n",
      "20/20 [==============================] - ETA: 0s - loss: 0.6900 - accuracy: 0.5440 \n",
      "Epoch 00010: saving model to modelResNe.h5\n",
      "20/20 [==============================] - 288s 14s/step - loss: 0.6900 - accuracy: 0.5440 - val_loss: 0.6893 - val_accuracy: 0.5516\n",
      "Epoch 11/30\n",
      "20/20 [==============================] - ETA: 0s - loss: 0.6898 - accuracy: 0.5456 \n",
      "Epoch 00011: saving model to modelResNe.h5\n",
      "20/20 [==============================] - 289s 14s/step - loss: 0.6898 - accuracy: 0.5456 - val_loss: 0.6891 - val_accuracy: 0.5531\n",
      "Epoch 12/30\n",
      "20/20 [==============================] - ETA: 0s - loss: 0.6894 - accuracy: 0.5464 \n",
      "Epoch 00012: saving model to modelResNe.h5\n",
      "20/20 [==============================] - 287s 14s/step - loss: 0.6894 - accuracy: 0.5464 - val_loss: 0.6895 - val_accuracy: 0.5469\n",
      "Epoch 13/30\n",
      "20/20 [==============================] - ETA: 0s - loss: 0.6892 - accuracy: 0.5480 \n",
      "Epoch 00013: saving model to modelResNe.h5\n",
      "20/20 [==============================] - 290s 15s/step - loss: 0.6892 - accuracy: 0.5480 - val_loss: 0.6901 - val_accuracy: 0.5406\n",
      "Epoch 00013: early stopping\n"
     ]
    }
   ],
   "source": [
    "history = model.fit(train_generator,steps_per_epoch=train_steps,epochs=30,validation_data=test_generator,validation_steps=test_steps,verbose=1,callbacks=[mcp,es])"
   ]
  },
  {
   "cell_type": "code",
   "execution_count": 75,
   "metadata": {},
   "outputs": [
    {
     "name": "stdout",
     "output_type": "stream",
     "text": [
      "5/5 [==============================] - 45s 9s/step - loss: 0.6895 - accuracy: 0.5453\n"
     ]
    },
    {
     "data": {
      "text/plain": [
       "[0.6895340085029602, 0.5453125238418579]"
      ]
     },
     "execution_count": 75,
     "metadata": {},
     "output_type": "execute_result"
    }
   ],
   "source": [
    "model.evaluate(test_generator, verbose=1, steps=test_steps)"
   ]
  },
  {
   "cell_type": "code",
   "execution_count": 76,
   "metadata": {},
   "outputs": [
    {
     "data": {
      "text/plain": [
       "Text(0.5, 1.0, 'Training and validation loss')"
      ]
     },
     "execution_count": 76,
     "metadata": {},
     "output_type": "execute_result"
    },
    {
     "data": {
      "image/png": "[encoded data removed]",
      "text/plain": [
       "<Figure size 432x288 with 1 Axes>"
      ]
     },
     "metadata": {
      "needs_background": "light"
     },
     "output_type": "display_data"
    },
    {
     "data": {
      "image/png": "[encoded data removed]",
      "text/plain": [
       "<Figure size 432x288 with 1 Axes>"
      ]
     },
     "metadata": {
      "needs_background": "light"
     },
     "output_type": "display_data"
    }
   ],
   "source": [
    "import matplotlib.pyplot as plt\n",
    "\n",
    "accuracy      = history.history['accuracy']\n",
    "val_accuracy  = history.history['val_accuracy']\n",
    "loss     = history.history['loss']\n",
    "val_loss = history.history['val_loss']\n",
    "\n",
    "epochs   = range(len(accuracy))\n",
    "\n",
    "plt.plot(epochs, accuracy)\n",
    "plt.plot(epochs, val_accuracy)\n",
    "plt.title('Training and validation accuracy')\n",
    "plt.figure()\n",
    "\n",
    "# Plot training and validation loss per epoch\n",
    "plt.plot(epochs, loss)\n",
    "plt.plot(epochs, val_loss)\n",
    "plt.title('Training and validation loss')"
   ]
  },
  {
   "cell_type": "code",
   "execution_count": 77,
   "metadata": {},
   "outputs": [
    {
     "data": {
      "text/plain": [
       "{'benign': 0, 'malignant': 1}"
      ]
     },
     "execution_count": 77,
     "metadata": {},
     "output_type": "execute_result"
    }
   ],
   "source": [
    "train_generator.class_indices"
   ]
  },
  {
   "cell_type": "code",
   "execution_count": 78,
   "metadata": {},
   "outputs": [
    {
     "name": "stdout",
     "output_type": "stream",
     "text": [
      "Benign\n"
     ]
    }
   ],
   "source": [
    "import numpy as np\n",
    "from tensorflow.keras.preprocessing import image\n",
    "from tensorflow.keras.models import load_model\n",
    "\n",
    "image_width, image_height = 224,224\n",
    "\n",
    "img = image.load_img('../input/skin-cencer-dataset-images/data/train/benign/1002.jpg', target_size=(image_width, image_height))\n",
    "img = image.img_to_array(img)\n",
    "img = np.expand_dims(img, axis = 0)\n",
    "img/= 255.\n",
    "model = load_model('modelResNe.h5')\n",
    "result = model.predict(img)\n",
    "train_generator.class_indices\n",
    "if result[0][0] == 0:\n",
    "    prediction = 'Malignant'\n",
    "else:\n",
    "    prediction = 'Benign'\n",
    "print(prediction)"
   ]
  },
  {
   "cell_type": "code",
   "execution_count": 79,
   "metadata": {},
   "outputs": [
    {
     "data": {
      "text/plain": [
       "array([0])"
      ]
     },
     "execution_count": 79,
     "metadata": {},
     "output_type": "execute_result"
    }
   ],
   "source": [
    "prediction = model.predict_classes(img)\n",
    "prediction"
   ]
  },
  {
   "cell_type": "code",
   "execution_count": 80,
   "metadata": {},
   "outputs": [],
   "source": [
    "model.save('modelResNe.h5')"
   ]
  },
  {
   "cell_type": "code",
   "execution_count": 85,
   "metadata": {},
   "outputs": [],
   "source": [
    "vvg = VGG16(input_shape=(224,224, 3), include_top=False,weights = 'imagenet')"
   ]
  },
  {
   "cell_type": "code",
   "execution_count": 86,
   "metadata": {},
   "outputs": [
    {
     "name": "stdout",
     "output_type": "stream",
     "text": [
      "Model: \"vgg16\"\n",
      "_________________________________________________________________\n",
      "Layer (type)                 Output Shape              Param #   \n",
      "=================================================================\n",
      "input_6 (InputLayer)         [(None, 224, 224, 3)]     0         \n",
      "_________________________________________________________________\n",
      "block1_conv1 (Conv2D)        (None, 224, 224, 64)      1792      \n",
      "_________________________________________________________________\n",
      "block1_conv2 (Conv2D)        (None, 224, 224, 64)      36928     \n",
      "_________________________________________________________________\n",
      "block1_pool (MaxPooling2D)   (None, 112, 112, 64)      0         \n",
      "_________________________________________________________________\n",
      "block2_conv1 (Conv2D)        (None, 112, 112, 128)     73856     \n",
      "_________________________________________________________________\n",
      "block2_conv2 (Conv2D)        (None, 112, 112, 128)     147584    \n",
      "_________________________________________________________________\n",
      "block2_pool (MaxPooling2D)   (None, 56, 56, 128)       0         \n",
      "_________________________________________________________________\n",
      "block3_conv1 (Conv2D)        (None, 56, 56, 256)       295168    \n",
      "_________________________________________________________________\n",
      "block3_conv2 (Conv2D)        (None, 56, 56, 256)       590080    \n",
      "_________________________________________________________________\n",
      "block3_conv3 (Conv2D)        (None, 56, 56, 256)       590080    \n",
      "_________________________________________________________________\n",
      "block3_pool (MaxPooling2D)   (None, 28, 28, 256)       0         \n",
      "_________________________________________________________________\n",
      "block4_conv1 (Conv2D)        (None, 28, 28, 512)       1180160   \n",
      "_________________________________________________________________\n",
      "block4_conv2 (Conv2D)        (None, 28, 28, 512)       2359808   \n",
      "_________________________________________________________________\n",
      "block4_conv3 (Conv2D)        (None, 28, 28, 512)       2359808   \n",
      "_________________________________________________________________\n",
      "block4_pool (MaxPooling2D)   (None, 14, 14, 512)       0         \n",
      "_________________________________________________________________\n",
      "block5_conv1 (Conv2D)        (None, 14, 14, 512)       2359808   \n",
      "_________________________________________________________________\n",
      "block5_conv2 (Conv2D)        (None, 14, 14, 512)       2359808   \n",
      "_________________________________________________________________\n",
      "block5_conv3 (Conv2D)        (None, 14, 14, 512)       2359808   \n",
      "_________________________________________________________________\n",
      "block5_pool (MaxPooling2D)   (None, 7, 7, 512)         0         \n",
      "=================================================================\n",
      "Total params: 14,714,688\n",
      "Trainable params: 14,714,688\n",
      "Non-trainable params: 0\n",
      "_________________________________________________________________\n"
     ]
    }
   ],
   "source": [
    "vvg.summary()"
   ]
  },
  {
   "cell_type": "code",
   "execution_count": 88,
   "metadata": {},
   "outputs": [],
   "source": [
    "for layers in (vvg.layers):\n",
    "    layers.trainable = False"
   ]
  },
  {
   "cell_type": "code",
   "execution_count": 90,
   "metadata": {},
   "outputs": [
    {
     "name": "stdout",
     "output_type": "stream",
     "text": [
      "Model: \"sequential_4\"\n",
      "_________________________________________________________________\n",
      "Layer (type)                 Output Shape              Param #   \n",
      "=================================================================\n",
      "vgg16 (Functional)           (None, 7, 7, 512)         14714688  \n",
      "_________________________________________________________________\n",
      "flatten_4 (Flatten)          (None, 25088)             0         \n",
      "_________________________________________________________________\n",
      "dense_16 (Dense)             (None, 4096)              102764544 \n",
      "_________________________________________________________________\n",
      "dropout_12 (Dropout)         (None, 4096)              0         \n",
      "_________________________________________________________________\n",
      "dense_17 (Dense)             (None, 4096)              16781312  \n",
      "_________________________________________________________________\n",
      "dropout_13 (Dropout)         (None, 4096)              0         \n",
      "_________________________________________________________________\n",
      "dense_18 (Dense)             (None, 4096)              16781312  \n",
      "_________________________________________________________________\n",
      "dropout_14 (Dropout)         (None, 4096)              0         \n",
      "_________________________________________________________________\n",
      "dense_19 (Dense)             (None, 2)                 8194      \n",
      "=================================================================\n",
      "Total params: 151,050,050\n",
      "Trainable params: 136,335,362\n",
      "Non-trainable params: 14,714,688\n",
      "_________________________________________________________________\n"
     ]
    }
   ],
   "source": [
    "model2 = Sequential()\n",
    "\n",
    "# Add the vvg convolutional base model\n",
    "model2.add(vvg)\n",
    "\n",
    "# Add new layers\n",
    "model2.add(Flatten())\n",
    "model2.add(Dense(4096 , activation='relu'))\n",
    "model2.add(Dropout(0.5))\n",
    "model2.add(Dense(4096 , activation='relu'))\n",
    "model2.add(Dropout(0.3))\n",
    "model2.add(Dense(4096, activation='relu'))\n",
    "model2.add(Dropout(0.4))\n",
    "model2.add(Dense(2, activation='softmax'))\n",
    "\n",
    "model2.summary()"
   ]
  },
  {
   "cell_type": "code",
   "execution_count": null,
   "metadata": {},
   "outputs": [],
   "source": [
    "#z = layers.Flatten()(pretrained_model.output)\n",
    " \n",
    "#z  = layers.Dense(4096 , activation='relu')(z)\n",
    "#z  = layers.Dense(4096 , activation='relu')(z)\n",
    " \n",
    "   \n",
    "#z = layers.Dense(2, activation='softmax')(z)"
   ]
  },
  {
   "cell_type": "code",
   "execution_count": null,
   "metadata": {},
   "outputs": [],
   "source": [
    "#model2 = Model(vvg.input, z)"
   ]
  },
  {
   "cell_type": "code",
   "execution_count": null,
   "metadata": {},
   "outputs": [],
   "source": [
    "#model2.summary()"
   ]
  },
  {
   "cell_type": "code",
   "execution_count": 91,
   "metadata": {},
   "outputs": [],
   "source": [
    "lr = 1e-4\n",
    "model2.compile(loss='categorical_crossentropy', optimizer=Adam(lr), metrics=['accuracy'])"
   ]
  },
  {
   "cell_type": "code",
   "execution_count": 92,
   "metadata": {},
   "outputs": [],
   "source": [
    "mcp2 = ModelCheckpoint('modelVVG.h5', verbose=1)"
   ]
  },
  {
   "cell_type": "code",
   "execution_count": 93,
   "metadata": {},
   "outputs": [],
   "source": [
    "es2 = EarlyStopping(patience=2,verbose=1)"
   ]
  },
  {
   "cell_type": "code",
   "execution_count": null,
   "metadata": {},
   "outputs": [],
   "source": [
    "#history = model.fit(train_generator,epochs=10,batch_size = 128)\n"
   ]
  },
  {
   "cell_type": "code",
   "execution_count": null,
   "metadata": {},
   "outputs": [
    {
     "name": "stdout",
     "output_type": "stream",
     "text": [
      "Epoch 1/30\n",
      "10/20 [==============>...............] - ETA: 5:46 - loss: 1.4358 - accuracy: 0.5375"
     ]
    }
   ],
   "source": [
    "history = model2.fit(train_generator,steps_per_epoch=train_steps,epochs=30,validation_data=test_generator,validation_steps=test_steps,verbose=1,callbacks=[mcp2,es2])"
   ]
  },
  {
   "cell_type": "code",
   "execution_count": null,
   "metadata": {},
   "outputs": [],
   "source": [
    "model2.evaluate(test_generator, verbose=1, steps=test_steps)"
   ]
  },
  {
   "cell_type": "code",
   "execution_count": null,
   "metadata": {},
   "outputs": [],
   "source": [
    "import matplotlib.pyplot as plt\n",
    "\n",
    "accuracy      = history.history['accuracy']\n",
    "val_accuracy  = history.history['val_accuracy']\n",
    "loss     = history.history['loss']\n",
    "val_loss = history.history['val_loss']\n",
    "\n",
    "epochs   = range(len(accuracy))\n",
    "\n",
    "plt.plot(epochs, accuracy)\n",
    "plt.plot(epochs, val_accuracy)\n",
    "plt.title('Training and validation accuracy')\n",
    "plt.figure()\n",
    "\n",
    "# Plot training and validation loss per epoch\n",
    "plt.plot(epochs, loss)\n",
    "plt.plot(epochs, val_loss)\n",
    "plt.title('Training and validation loss')"
   ]
  },
  {
   "cell_type": "code",
   "execution_count": null,
   "metadata": {},
   "outputs": [],
   "source": [
    "import numpy as np\n",
    "from tensorflow.keras.preprocessing import image\n",
    "from tensorflow.keras.models import load_model\n",
    "\n",
    "image_width, image_height = 224,224\n",
    "\n",
    "img = image.load_img('../input/skin-cencer-dataset-images/test/malignant/1026.jpg', target_size=(image_width, image_height))\n",
    "img = image.img_to_array(img)\n",
    "img = np.expand_dims(img, axis = 0)\n",
    "img/= 255.\n",
    "model = load_model('modelVVG.h5')\n",
    "result = model.predict(img)\n",
    "train_generator.class_indices\n",
    "if result[0][0] == 0:\n",
    "    prediction = 'Malignant'\n",
    "else:\n",
    "    prediction = 'Benign'\n",
    "print(prediction)"
   ]
  },
  {
   "cell_type": "code",
   "execution_count": null,
   "metadata": {},
   "outputs": [],
   "source": [
    "model.save('modelVVG.h5')"
   ]
  }
 ],
 "metadata": {
  "kernelspec": {
   "display_name": "Python 3",
   "language": "python",
   "name": "python3"
  },
  "language_info": {
   "codemirror_mode": {
    "name": "ipython",
    "version": 3
   },
   "file_extension": ".py",
   "mimetype": "text/x-python",
   "name": "python",
   "nbconvert_exporter": "python",
   "pygments_lexer": "ipython3",
   "version": "3.8.3"
  }
 },
 "nbformat": 4,
 "nbformat_minor": 4
}
